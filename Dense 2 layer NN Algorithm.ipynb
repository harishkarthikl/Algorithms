{
 "cells": [
  {
   "cell_type": "code",
   "execution_count": 1,
   "metadata": {},
   "outputs": [],
   "source": [
    "import pandas as pd\n",
    "import numpy as np\n",
    "np.random.seed(0)"
   ]
  },
  {
   "cell_type": "code",
   "execution_count": 2,
   "metadata": {},
   "outputs": [],
   "source": [
    "def dnn2(X, y, epochs=20, n_layers=2, n_neurons=28, threshold=0.5, alpha=0.06):\n",
    "#Key units - n = no of features, m = number of examples\n",
    "    [n, m] = X.shape\n",
    "    W = np.random.randn(n, n_neurons) * 0.01\n",
    "    b = np.ones((n_neurons, 1))\n",
    "    Wf = np.random.randn(n_neurons, 1) * 0.01\n",
    "    bf = 1\n",
    "\n",
    "    for i in range(epochs):\n",
    "        print(\"        Epoch = \", i+1, \"/\", epochs)\n",
    "#Start forward propagation\n",
    "#Hidden Layer\n",
    "        #print(10*\"-\", \"Forward Prop\", 10*\"-\", \"Hidden Layer\")\n",
    "        A1 = forward_prop_relu(X, W, b)\n",
    "\n",
    "#Final Layer\n",
    "        #print(10*\"-\", \"Forward Prop\", 10*\"-\", \"Final Layer\")\n",
    "        A2 = forward_prop_sigmoid(A1, Wf, bf)\n",
    "\n",
    "#Accuracy at each iteration\n",
    "    #Convert based on threshhold\n",
    "        mask0 = A2<threshold\n",
    "        mask1 = A2>threshold\n",
    "        yhat = A2.copy()\n",
    "        yhat[mask0] = 0\n",
    "        yhat[mask1] = 1\n",
    "        acc = (1 - abs(np.sum(y - yhat)/len(y))) * 100\n",
    "        print(\"Accuracy:\\t\", acc)\n",
    "\n",
    "#Start Back Propagation\n",
    "#Final Layer\n",
    "        #print(10*\"-\", \"Back Prop\", 10*\"-\", \"Final Layer\")\n",
    "        [Wf, bf, dfZ] = back_prop_final(A1, y, Wf, bf, A2, A1, alpha)\n",
    "        \n",
    "    \n",
    "#Hidden Layer\n",
    "        #print(10*\"-\", \"Back Prop\", 10*\"-\", \"Hidden Layer\")\n",
    "        [W, b] = back_prop_intermediate(X, W, b, Wf, dfZ, A1, alpha)\n",
    "    \n",
    "#Outputs\n",
    "\n",
    "\n",
    "#Output Statements\n",
    "    print(\"\\n\")\n",
    "    print(20*\"-\", \"Output\", 20*\"-\")\n",
    "    print(yhat)\n",
    "    #print(A)\n",
    "    \n",
    "    print(\"Accuracy: \\t\", acc)\n",
    "    #print(\"w:\\t\", W)\n",
    "    #print(\"b:\\t\", b)"
   ]
  },
  {
   "cell_type": "code",
   "execution_count": 3,
   "metadata": {},
   "outputs": [],
   "source": [
    "def forward_prop_relu(X, W, b):\n",
    "#Define hypothesis\n",
    "    Z = np.dot(W.T,X) + b\n",
    "    #print(\"Shape of Z:\\t\", Z.shape)\n",
    "#Define ReLU activation function\n",
    "    A = np.maximum(0, Z)\n",
    "    #print(\"Shape of A:\\t\", A.shape)\n",
    "    return A"
   ]
  },
  {
   "cell_type": "code",
   "execution_count": 4,
   "metadata": {},
   "outputs": [],
   "source": [
    "def forward_prop_sigmoid(X, W, b):\n",
    "#Define hypothesis\n",
    "    Z = np.dot(W.T,X) + b\n",
    "    #print(\"Shape of Z:\\t\", Z.shape)\n",
    "#Define ReLU activation function\n",
    "    A = 1 / (1 + np.exp(-Z))\n",
    "    #print(\"Shape of A:\\t\", A.shape)\n",
    "    return A"
   ]
  },
  {
   "cell_type": "code",
   "execution_count": 5,
   "metadata": {},
   "outputs": [],
   "source": [
    "def back_prop_final(X, y, Wf, bf, Af, A1, alpha):\n",
    "    m = len(A1)\n",
    "    J = -np.sum((y*np.log(Af)) + ((1 - y)*np.log(1 - Af)))/m\n",
    "    dfZ = Af - y\n",
    "    dfW = np.dot(dfZ, A1.T)/m\n",
    "    dfb = (np.sum(dfZ, axis = 1, keepdims=True))/m\n",
    "    Wf = Wf - (alpha * dfW.T)\n",
    "    bf = bf - (alpha * dfb)\n",
    "    print(\"Loss:\\t\", J)\n",
    "    return [Wf, bf, dfZ]"
   ]
  },
  {
   "cell_type": "code",
   "execution_count": 6,
   "metadata": {},
   "outputs": [],
   "source": [
    "def back_prop_intermediate(X, W, b, Wf, dfZ, A1, alpha):\n",
    "    m = len(X)\n",
    "    dZ = np.dot(Wf, dfZ) * (A1 * (1 - A1))\n",
    "    dW = np.dot(dZ, X.T)/m\n",
    "    db = (np.sum(dZ, axis = 1, keepdims=True))/m\n",
    "    W = W - (alpha * dW.T)\n",
    "    b = b - (alpha * db)\n",
    "    return [W, b]"
   ]
  },
  {
   "cell_type": "code",
   "execution_count": 7,
   "metadata": {},
   "outputs": [],
   "source": [
    "x1 = np.random.randn(10)\n",
    "x12 = np.random.randn(10)\n",
    "x13 = np.random.randn(10)\n",
    "y1 = np.ones(10)\n",
    "x2 = np.random.rand(10)\n",
    "x22 = np.random.rand(10)\n",
    "x23 = np.random.randn(10)\n",
    "y2 = np.zeros(10)"
   ]
  },
  {
   "cell_type": "code",
   "execution_count": 8,
   "metadata": {},
   "outputs": [],
   "source": [
    "X1 = np.vstack((x1, x12, x13, y1))\n",
    "X2 = np.vstack((x2, x22, x23, y2))"
   ]
  },
  {
   "cell_type": "code",
   "execution_count": 9,
   "metadata": {},
   "outputs": [],
   "source": [
    "X1 = X1.T\n",
    "X2 = X2.T"
   ]
  },
  {
   "cell_type": "code",
   "execution_count": 10,
   "metadata": {},
   "outputs": [],
   "source": [
    "Xt = np.vstack((X1, X2))"
   ]
  },
  {
   "cell_type": "code",
   "execution_count": 11,
   "metadata": {},
   "outputs": [
    {
     "data": {
      "text/plain": [
       "array([[ 0.21038256,  0.65310833,  0.06651722,  0.        ],\n",
       "       [-0.97727788,  0.33367433, -1.45436567,  1.        ],\n",
       "       [ 0.6976312 ,  0.98837384, -0.51080514,  0.        ],\n",
       "       [ 0.40015721,  1.45427351,  0.6536186 ,  1.        ],\n",
       "       [ 1.86755799,  0.44386323,  2.26975462,  1.        ],\n",
       "       [-0.10321885,  0.3130677 ,  1.53277921,  1.        ],\n",
       "       [ 0.95008842,  1.49407907,  0.04575852,  1.        ],\n",
       "       [ 0.06022547,  0.10204481, -1.18063218,  0.        ],\n",
       "       [ 0.43703195,  0.43860151,  0.3869025 ,  0.        ],\n",
       "       [ 2.2408932 ,  0.12167502, -0.74216502,  1.        ],\n",
       "       [ 0.3595079 ,  0.57019677, -0.89546656,  0.        ],\n",
       "       [ 0.1289263 ,  0.2532916 ,  0.3024719 ,  0.        ],\n",
       "       [ 0.97873798,  0.76103773,  0.8644362 ,  1.        ],\n",
       "       [ 0.66676672,  0.20887676, -0.02818223,  0.        ],\n",
       "       [-0.15135721, -0.20515826, -0.18718385,  1.        ],\n",
       "       [ 0.67063787,  0.16130952,  0.42833187,  0.        ],\n",
       "       [ 0.6818203 ,  0.36371077, -0.21274028,  0.        ],\n",
       "       [ 0.94374808,  0.31542835, -1.61389785,  0.        ],\n",
       "       [ 1.76405235,  0.14404357, -2.55298982,  1.        ],\n",
       "       [ 0.4105985 , -0.85409574,  1.46935877,  1.        ]])"
      ]
     },
     "execution_count": 11,
     "metadata": {},
     "output_type": "execute_result"
    }
   ],
   "source": [
    "np.random.shuffle(Xt)\n",
    "Xt"
   ]
  },
  {
   "cell_type": "code",
   "execution_count": 12,
   "metadata": {
    "scrolled": true
   },
   "outputs": [],
   "source": [
    "X = Xt[:, 0:-1].T\n",
    "y = Xt[:, -1].T"
   ]
  },
  {
   "cell_type": "code",
   "execution_count": 13,
   "metadata": {
    "scrolled": true
   },
   "outputs": [
    {
     "name": "stdout",
     "output_type": "stream",
     "text": [
      "        Epoch =  1 / 20\n",
      "Accuracy:\t 50.0\n",
      "Loss:\t 0.5874632586795966\n",
      "        Epoch =  2 / 20\n",
      "Accuracy:\t 50.0\n",
      "Loss:\t 0.5432013744560513\n",
      "        Epoch =  3 / 20\n",
      "Accuracy:\t 50.0\n",
      "Loss:\t 0.5190862672652193\n",
      "        Epoch =  4 / 20\n",
      "Accuracy:\t 50.0\n",
      "Loss:\t 0.5067433476371639\n",
      "        Epoch =  5 / 20\n",
      "Accuracy:\t 50.0\n",
      "Loss:\t 0.5006499109535922\n",
      "        Epoch =  6 / 20\n",
      "Accuracy:\t 50.0\n",
      "Loss:\t 0.4976982141293016\n",
      "        Epoch =  7 / 20\n",
      "Accuracy:\t 50.0\n",
      "Loss:\t 0.49628157613692697\n",
      "        Epoch =  8 / 20\n",
      "Accuracy:\t 50.0\n",
      "Loss:\t 0.49560438840249044\n",
      "        Epoch =  9 / 20\n",
      "Accuracy:\t 50.0\n",
      "Loss:\t 0.4952809424784609\n",
      "        Epoch =  10 / 20\n",
      "Accuracy:\t 50.0\n",
      "Loss:\t 0.4951261543851463\n",
      "        Epoch =  11 / 20\n",
      "Accuracy:\t 50.0\n",
      "Loss:\t 0.4950516449000068\n",
      "        Epoch =  12 / 20\n",
      "Accuracy:\t 50.0\n",
      "Loss:\t 0.49501531027862106\n",
      "        Epoch =  13 / 20\n",
      "Accuracy:\t 50.0\n",
      "Loss:\t 0.49499711429736537\n",
      "        Epoch =  14 / 20\n",
      "Accuracy:\t 50.0\n",
      "Loss:\t 0.49498752693674414\n",
      "        Epoch =  15 / 20\n",
      "Accuracy:\t 50.0\n",
      "Loss:\t 0.494982016257194\n",
      "        Epoch =  16 / 20\n",
      "Accuracy:\t 50.0\n",
      "Loss:\t 0.49497842718025586\n",
      "        Epoch =  17 / 20\n",
      "Accuracy:\t 60.0\n",
      "Loss:\t 0.4949757347669213\n",
      "        Epoch =  18 / 20\n",
      "Accuracy:\t 75.0\n",
      "Loss:\t 0.49497345139131715\n",
      "        Epoch =  19 / 20\n",
      "Accuracy:\t 80.0\n",
      "Loss:\t 0.4949713448785507\n",
      "        Epoch =  20 / 20\n",
      "Accuracy:\t 100.0\n",
      "Loss:\t 0.4949693044981252\n",
      "\n",
      "\n",
      "-------------------- Output --------------------\n",
      "[[0. 0. 0. 1. 1. 1. 1. 0. 1. 1. 0. 1. 1. 0. 0. 1. 0. 0. 0. 1.]]\n",
      "Accuracy: \t 100.0\n"
     ]
    }
   ],
   "source": [
    "dnn2(X, y)"
   ]
  },
  {
   "cell_type": "code",
   "execution_count": null,
   "metadata": {},
   "outputs": [],
   "source": []
  }
 ],
 "metadata": {
  "kernelspec": {
   "display_name": "Python 3",
   "language": "python",
   "name": "python3"
  },
  "language_info": {
   "codemirror_mode": {
    "name": "ipython",
    "version": 3
   },
   "file_extension": ".py",
   "mimetype": "text/x-python",
   "name": "python",
   "nbconvert_exporter": "python",
   "pygments_lexer": "ipython3",
   "version": "3.7.6"
  }
 },
 "nbformat": 4,
 "nbformat_minor": 4
}
