{
 "cells": [
  {
   "cell_type": "code",
   "execution_count": 1,
   "metadata": {},
   "outputs": [],
   "source": [
    "import pandas as pd\n",
    "import numpy as np\n",
    "np.random.seed(0)"
   ]
  },
  {
   "cell_type": "code",
   "execution_count": 2,
   "metadata": {},
   "outputs": [],
   "source": [
    "def lor(X, y, threshold=0.5, alpha=0.01):\n",
    "    X = X.T\n",
    "    y = y.T\n",
    "#Initiate weights as zeros and bias as ones\n",
    "    W = np.zeros(X.shape[0])\n",
    "    b = 1\n",
    "    for i in range(1000):\n",
    "#Define hypothesis\n",
    "        Z = np.dot(W.T,X) + b\n",
    "        A = 1 / (1 + np.exp(-Z))\n",
    "#Convert based on threshhold\n",
    "        mask0 = A<threshold\n",
    "        mask1 = A>threshold\n",
    "        yhat = A.copy()\n",
    "        yhat[mask0] = 0\n",
    "        yhat[mask1] = 1\n",
    "#Gradient Descent\n",
    "        [W, b] = grad_descent(X, y, W, b, A, alpha)\n",
    "    print(20*\"-\", \"Output\", 20*\"-\")\n",
    "    print(yhat)\n",
    "    print(A)\n",
    "    acc = (1 - abs(np.sum(y - yhat)/len(y))) * 100\n",
    "    print(\"Accuracy: \\t\", acc)\n",
    "    print(\"w:\\t\", W)\n",
    "    print(\"b:\\t\", b)"
   ]
  },
  {
   "cell_type": "code",
   "execution_count": 3,
   "metadata": {},
   "outputs": [],
   "source": [
    "def grad_descent(X, y, W, b, A, alpha):\n",
    "    m = len(X)\n",
    "    J = -np.sum((y*np.log(A)) + ((1 - y)*np.log(1 - A)))/m\n",
    "    dZ = A - y\n",
    "    dW = np.dot(X,dZ.T)/m\n",
    "    db = (np.sum(dZ))/m\n",
    "    W = W - (alpha * dW)\n",
    "    b = b - (alpha * db)\n",
    "    #print(\"Loss:\\t\", J)\n",
    "    #print(\"w:\\t\", W)\n",
    "    return [W, b]"
   ]
  },
  {
   "cell_type": "code",
   "execution_count": 4,
   "metadata": {},
   "outputs": [],
   "source": [
    "x1 = np.random.randn(10) + 2\n",
    "x13 = np.random.randn(10)\n",
    "y1 = np.ones(10)\n",
    "x2 = np.random.rand(10)\n",
    "x23 = np.random.rand(10)\n",
    "y2 = np.zeros(10)"
   ]
  },
  {
   "cell_type": "code",
   "execution_count": 5,
   "metadata": {},
   "outputs": [],
   "source": [
    "X1 = np.vstack((x1, x13, y1))\n",
    "X2 = np.vstack((x2, x23, y2))"
   ]
  },
  {
   "cell_type": "code",
   "execution_count": 6,
   "metadata": {},
   "outputs": [],
   "source": [
    "X1 = X1.T\n",
    "X2 = X2.T"
   ]
  },
  {
   "cell_type": "code",
   "execution_count": 7,
   "metadata": {},
   "outputs": [],
   "source": [
    "Xt = np.vstack((X1, X2))"
   ]
  },
  {
   "cell_type": "code",
   "execution_count": 8,
   "metadata": {},
   "outputs": [
    {
     "data": {
      "text/plain": [
       "array([[ 2.40015721,  1.45427351,  1.        ],\n",
       "       [ 2.97873798,  0.76103773,  1.        ],\n",
       "       [ 0.45615033,  0.6976312 ,  0.        ],\n",
       "       [ 0.56843395,  0.06022547,  0.        ],\n",
       "       [ 1.89678115,  0.3130677 ,  1.        ],\n",
       "       [ 0.77423369,  0.43703195,  0.        ],\n",
       "       [ 1.84864279, -0.20515826,  1.        ],\n",
       "       [ 0.41466194,  0.6818203 ,  0.        ],\n",
       "       [ 2.95008842,  1.49407907,  1.        ],\n",
       "       [ 0.94466892,  0.616934  ,  0.        ],\n",
       "       [ 3.86755799,  0.44386323,  1.        ],\n",
       "       [ 0.14335329,  0.61209572,  0.        ],\n",
       "       [ 2.4105985 , -0.85409574,  1.        ],\n",
       "       [ 0.52184832,  0.94374808,  0.        ],\n",
       "       [ 1.02272212,  0.33367433,  1.        ],\n",
       "       [ 4.2408932 ,  0.12167502,  1.        ],\n",
       "       [ 0.6176355 ,  0.67063787,  0.        ],\n",
       "       [ 3.76405235,  0.14404357,  1.        ],\n",
       "       [ 0.0187898 ,  0.66676672,  0.        ],\n",
       "       [ 0.26455561,  0.3595079 ,  0.        ]])"
      ]
     },
     "execution_count": 8,
     "metadata": {},
     "output_type": "execute_result"
    }
   ],
   "source": [
    "np.random.shuffle(Xt)\n",
    "Xt"
   ]
  },
  {
   "cell_type": "code",
   "execution_count": 9,
   "metadata": {
    "scrolled": true
   },
   "outputs": [
    {
     "name": "stdout",
     "output_type": "stream",
     "text": [
      "-------------------- Output --------------------\n",
      "[1. 1. 0. 0. 1. 0. 1. 0. 1. 0. 1. 0. 1. 0. 1. 1. 0. 1. 0. 0.]\n",
      "[9.93493720e-01 9.99987471e-01 7.82791063e-03 1.40756397e-01\n",
      " 9.97243296e-01 1.37401787e-01 9.99420531e-01 6.34277039e-03\n",
      " 9.99786319e-01 2.00633490e-01 9.99999988e-01 1.41195132e-03\n",
      " 9.99998550e-01 4.93639687e-03 5.36975754e-01 1.00000000e+00\n",
      " 2.41893516e-02 9.99999992e-01 5.17043075e-04 7.67599443e-03]\n",
      "Accuracy: \t 100.0\n",
      "w:\t [ 6.48734934 -3.61780118]\n",
      "b:\t -5.278986400092353\n"
     ]
    }
   ],
   "source": [
    "X = Xt[:, 0:-1]\n",
    "y = Xt[:, -1]\n",
    "lor(X, y, alpha=0.05)"
   ]
  },
  {
   "cell_type": "code",
   "execution_count": null,
   "metadata": {},
   "outputs": [],
   "source": []
  }
 ],
 "metadata": {
  "kernelspec": {
   "display_name": "Python 3",
   "language": "python",
   "name": "python3"
  },
  "language_info": {
   "codemirror_mode": {
    "name": "ipython",
    "version": 3
   },
   "file_extension": ".py",
   "mimetype": "text/x-python",
   "name": "python",
   "nbconvert_exporter": "python",
   "pygments_lexer": "ipython3",
   "version": "3.7.6"
  }
 },
 "nbformat": 4,
 "nbformat_minor": 4
}
