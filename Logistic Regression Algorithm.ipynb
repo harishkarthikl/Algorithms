{
 "cells": [
  {
   "cell_type": "code",
   "execution_count": 1,
   "metadata": {},
   "outputs": [],
   "source": [
    "import numpy as np\n",
    "import matplotlib.pyplot as plt\n",
    "import seaborn as sns\n",
    "np.random.seed(0)"
   ]
  },
  {
   "cell_type": "code",
   "execution_count": 2,
   "metadata": {},
   "outputs": [],
   "source": [
    "class logistic_regression:\n",
    "    '''This class will perform logistic regression classification'''\n",
    "    '''Sigmoid activation is used is this class'''\n",
    "    \n",
    "    def __init__(self, threshold=0.5, lr=0.01, iters=1000):\n",
    "        self.threshold = threshold\n",
    "        self.lr = lr\n",
    "        self.iters = iters\n",
    "        self.loss = []\n",
    "        self.accuracy = []\n",
    "        \n",
    "    def forward_prop(self, X, y):\n",
    "        # This function will perform one pass of forward propogation\n",
    "        self.Z = np.dot(X, self.W.T) + self.b\n",
    "        self.A = 1 / (1 + np.exp(-self.Z))\n",
    "        \n",
    "        #Convert based on threshhold\n",
    "        mask0 = self.A<self.threshold\n",
    "        mask1 = self.A>self.threshold\n",
    "        self.yhat = self.A.copy()\n",
    "        self.yhat[mask0] = 0\n",
    "        self.yhat[mask1] = 1\n",
    "        \n",
    "        # Add each accuracy to a list for plotting\n",
    "        self.accuracy.append((1 - abs(np.sum(y - self.Z)/len(y))) * 100)\n",
    "    \n",
    "    def back_prop(self, X, y):\n",
    "        # This function will perform one pass of backward propogation\n",
    "        y = y.reshape(X.shape[0],1)\n",
    "        m, _ = X.shape\n",
    "        self.J = -np.sum((y*np.log(self.A)) + ((1 - y)*np.log(1 - self.A)))/m #loss function\n",
    "        \n",
    "        # Add each accuracy to a list for plotting\n",
    "        self.loss.append(self.J)\n",
    "        \n",
    "        self.dZ = y - self.A                   # dJ/dZ = dJ/dA * dA/dZ\n",
    "        self.dW = np.dot(self.dZ.T, X)/m       # dJ/dW = X * dJ/dZ\n",
    "        self.db = (np.sum(self.dZ))/m          # dJ/db = sum of dJ/dZ\n",
    "        \n",
    "        # Change W and b each time this function is run\n",
    "        self.W += self.lr * self.dW\n",
    "        self.b += self.lr * self.db\n",
    "\n",
    "    def fit(self, X, y):\n",
    "        # This function will repeat forward and backward propogation many times\n",
    "        self.W = np.zeros((1, X.shape[1]))\n",
    "        self.b = 1\n",
    "        y = y.reshape(X.shape[0],1)\n",
    "        \n",
    "        for _ in range(self.iters):\n",
    "            self.forward_prop(X, y)\n",
    "            self.back_prop(X, y)\n",
    "        \n",
    "        print(\"Forward and backward propogation competed for {} iterations!\".format(self.iters))\n",
    "        print(\"Weights \\n\", self.W)\n",
    "        print(\"Intercept \\n\", self.b)\n",
    "        \n",
    "    def predict(self, test_X):\n",
    "        # This function can be used for prediction after training\n",
    "        pred = np.array(np.dot(test_X, self.W.T) + self.b)\n",
    "        \n",
    "        #Convert based on threshhold\n",
    "        mask0 = pred <= self.threshold\n",
    "        mask1 = pred > self.threshold\n",
    "        yhat = pred.copy()\n",
    "        yhat[mask0] = 0\n",
    "        yhat[mask1] = 1\n",
    "        return yhat\n",
    "    \n",
    "    def show_plot(self):\n",
    "        # This function is used to plot the learning history\n",
    "        plt.figure(figsize=(15,5))\n",
    "        print(\"Model Performance Plots\")\n",
    "        \n",
    "        # Subplot for loss vs number of iterations\n",
    "        plt.subplot(1,2,1)\n",
    "        plt.grid(axis='both')\n",
    "        plt.xlabel('Iterations')\n",
    "        plt.ylabel('Loss')\n",
    "        sns.lineplot(x=range(self.iters), y=self.loss)\n",
    "        \n",
    "        # Subplot for accuracy vs number of iterations\n",
    "        plt.subplot(1,2,2)\n",
    "        plt.grid(axis='both')\n",
    "        plt.xlabel('Iterations')\n",
    "        plt.ylabel('Accuracy')\n",
    "        sns.lineplot(x=range(self.iters), y=self.accuracy)\n",
    "        plt.show()"
   ]
  },
  {
   "cell_type": "code",
   "execution_count": 3,
   "metadata": {},
   "outputs": [],
   "source": [
    "#Generate a toy dataset to check the algorithm\n",
    "\n",
    "half_m = 20 # half the number of samples\n",
    "n = 5 # number of features\n",
    "\n",
    "\n",
    "x1 = np.random.rand(half_m,n+1)\n",
    "x1[:,0] *= 3\n",
    "x1[:, -1] = 1\n",
    "\n",
    "x2 = np.random.randn(half_m,n+1)\n",
    "x2[:, -1] = 0\n",
    "\n",
    "Xt = np.vstack((x1, x2))"
   ]
  },
  {
   "cell_type": "code",
   "execution_count": 4,
   "metadata": {
    "scrolled": false
   },
   "outputs": [
    {
     "data": {
      "text/plain": [
       "array([[-0.03928282, -1.1680935 ,  0.52327666, -0.17154633,  0.77179055,\n",
       "         0.        ],\n",
       "       [ 0.6692449 ,  0.95274901,  0.44712538,  0.84640867,  0.69947928,\n",
       "         1.        ],\n",
       "       [ 2.38314477,  0.94447949, -0.91282223,  1.11701629, -1.31590741,\n",
       "         0.        ],\n",
       "       [-0.35399391, -1.37495129, -0.6436184 , -2.22340315,  0.62523145,\n",
       "         0.        ],\n",
       "       [ 0.79366684,  0.77423369,  0.45615033,  0.56843395,  0.0187898 ,\n",
       "         1.        ],\n",
       "       [-0.67433266,  0.03183056, -0.63584608,  0.67643329,  0.57659082,\n",
       "         0.        ],\n",
       "       [ 0.64013153, -1.61695604, -0.02432612, -0.73803091,  0.2799246 ,\n",
       "         0.        ],\n",
       "       [ 1.69980436,  0.26538949,  0.52324805,  0.09394051,  0.5759465 ,\n",
       "         1.        ],\n",
       "       [-1.10438334,  0.05216508, -0.739563  ,  1.5430146 , -1.29285691,\n",
       "         0.        ],\n",
       "       [-1.270485  ,  0.96939671, -1.17312341,  1.94362119, -0.41361898,\n",
       "         0.        ]])"
      ]
     },
     "execution_count": 4,
     "metadata": {},
     "output_type": "execute_result"
    }
   ],
   "source": [
    "# Shuffle the toy dataset\n",
    "np.random.shuffle(Xt)\n",
    "Xt[:10]"
   ]
  },
  {
   "cell_type": "code",
   "execution_count": 5,
   "metadata": {},
   "outputs": [],
   "source": [
    "# Separate the features and labels\n",
    "\n",
    "X0 = Xt[:,:-1] # m samples with n features\n",
    "y0 = Xt[:,-1] # binary label for m samples"
   ]
  },
  {
   "cell_type": "code",
   "execution_count": 6,
   "metadata": {},
   "outputs": [],
   "source": [
    "lr = logistic_regression(lr=0.008, iters=700)"
   ]
  },
  {
   "cell_type": "code",
   "execution_count": 7,
   "metadata": {
    "scrolled": true
   },
   "outputs": [
    {
     "name": "stdout",
     "output_type": "stream",
     "text": [
      "Forward and backward propogation competed for 700 iterations!\n",
      "Weights \n",
      " [[ 0.3289034  -0.05296493  0.54218844  0.0550199   0.35435331]]\n",
      "Intercept \n",
      " 0.05496736100137673\n"
     ]
    }
   ],
   "source": [
    "lr.fit(X0, y0)"
   ]
  },
  {
   "cell_type": "code",
   "execution_count": 8,
   "metadata": {},
   "outputs": [
    {
     "data": {
      "text/plain": [
       "array([[0.],\n",
       "       [1.]])"
      ]
     },
     "execution_count": 8,
     "metadata": {},
     "output_type": "execute_result"
    }
   ],
   "source": [
    "test= np.vstack((X0[3], X0[4]))\n",
    "lr.predict(test)"
   ]
  },
  {
   "cell_type": "code",
   "execution_count": 9,
   "metadata": {},
   "outputs": [
    {
     "name": "stdout",
     "output_type": "stream",
     "text": [
      "Model Performance Plots\n"
     ]
    },
    {
     "data": {
      "image/png": "[encoded data removed]",
      "text/plain": [
       "<Figure size 1080x360 with 2 Axes>"
      ]
     },
     "metadata": {
      "needs_background": "light"
     },
     "output_type": "display_data"
    }
   ],
   "source": [
    "lr.show_plot()"
   ]
  },
  {
   "cell_type": "code",
   "execution_count": 10,
   "metadata": {},
   "outputs": [],
   "source": [
    "from sklearn.datasets import make_classification"
   ]
  },
  {
   "cell_type": "code",
   "execution_count": 11,
   "metadata": {},
   "outputs": [],
   "source": [
    "X, y = make_classification(n_samples=100, n_features=4, n_classes=2, scale=1.0, shuffle=True, random_state=7)"
   ]
  },
  {
   "cell_type": "code",
   "execution_count": 12,
   "metadata": {},
   "outputs": [
    {
     "data": {
      "text/plain": [
       "(100, 4)"
      ]
     },
     "execution_count": 12,
     "metadata": {},
     "output_type": "execute_result"
    }
   ],
   "source": [
    "X.shape"
   ]
  },
  {
   "cell_type": "code",
   "execution_count": 13,
   "metadata": {},
   "outputs": [
    {
     "data": {
      "text/plain": [
       "(100,)"
      ]
     },
     "execution_count": 13,
     "metadata": {},
     "output_type": "execute_result"
    }
   ],
   "source": [
    "y.shape"
   ]
  },
  {
   "cell_type": "code",
   "execution_count": 14,
   "metadata": {},
   "outputs": [
    {
     "data": {
      "text/plain": [
       "array([1, 0, 1, 0, 1, 1, 1, 0, 1, 1, 0, 0, 0, 0, 1, 1, 1, 1, 1, 0, 0, 0,\n",
       "       0, 1, 1, 1, 1, 0, 1, 0, 0, 1, 1, 0, 1, 0, 0, 0, 0, 1, 0, 1, 1, 1,\n",
       "       1, 0, 0, 0, 0, 1, 1, 0, 1, 0, 0, 1, 0, 1, 1, 0, 1, 1, 1, 1, 0, 1,\n",
       "       1, 1, 0, 0, 0, 0, 0, 1, 0, 0, 0, 0, 1, 1, 0, 1, 1, 0, 1, 0, 0, 0,\n",
       "       0, 0, 1, 1, 1, 0, 1, 1, 0, 1, 1, 1])"
      ]
     },
     "execution_count": 14,
     "metadata": {},
     "output_type": "execute_result"
    }
   ],
   "source": [
    "y"
   ]
  },
  {
   "cell_type": "code",
   "execution_count": 15,
   "metadata": {},
   "outputs": [],
   "source": [
    "lor = logistic_regression(iters=1000)"
   ]
  },
  {
   "cell_type": "code",
   "execution_count": 16,
   "metadata": {},
   "outputs": [
    {
     "name": "stdout",
     "output_type": "stream",
     "text": [
      "Forward and backward propogation competed for 1000 iterations!\n",
      "Weights \n",
      " [[ 0.70971489 -0.63405747  0.50574719  1.23669385]]\n",
      "Intercept \n",
      " 0.30240790097377684\n"
     ]
    }
   ],
   "source": [
    "lor.fit(X, y)"
   ]
  },
  {
   "cell_type": "code",
   "execution_count": 17,
   "metadata": {},
   "outputs": [
    {
     "name": "stdout",
     "output_type": "stream",
     "text": [
      "Model Performance Plots\n"
     ]
    },
    {
     "data": {
      "image/png": "[encoded data removed]",
      "text/plain": [
       "<Figure size 1080x360 with 2 Axes>"
      ]
     },
     "metadata": {
      "needs_background": "light"
     },
     "output_type": "display_data"
    }
   ],
   "source": [
    "lor.show_plot()"
   ]
  },
  {
   "cell_type": "code",
   "execution_count": null,
   "metadata": {},
   "outputs": [],
   "source": []
  }
 ],
 "metadata": {
  "kernelspec": {
   "display_name": "Python 3",
   "language": "python",
   "name": "python3"
  },
  "language_info": {
   "codemirror_mode": {
    "name": "ipython",
    "version": 3
   },
   "file_extension": ".py",
   "mimetype": "text/x-python",
   "name": "python",
   "nbconvert_exporter": "python",
   "pygments_lexer": "ipython3",
   "version": "3.8.3"
  }
 },
 "nbformat": 4,
 "nbformat_minor": 4
}
